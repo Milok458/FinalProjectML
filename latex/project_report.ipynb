{
 "cells": [
  {
   "cell_type": "markdown",
   "source": [
    "# <center> Proyecto Final Aprendizaje Automatico\n",
    "\n",
    "#### <center> Luis Miguel Maawad Hinojosa <center> A01364701@itesm.mx <center> ITESM MTY <center> Ingeniería en Tecnologías Computacionales <center> Monterrey México\n",
    "\n",
    "#### ABSTRACT\n",
    "\n",
    "#### 1 INTRODUCCIÓN\n",
    "\n",
    "#### 2 CONCEPTOS PREVIOS\n",
    "\n",
    "#### 3 METODOLOGÍA\n",
    "\n",
    "#### 4 RESULTADOS\n",
    "\n",
    "#### 5 CONCLUSIONES Y REFLEXIONES\n",
    "\n",
    "#### REFERENCES"
   ],
   "metadata": {
    "collapsed": false,
    "pycharm": {
     "name": "#%% md\n"
    }
   }
  }
 ],
 "metadata": {
  "kernelspec": {
   "display_name": "Python 3",
   "language": "python",
   "name": "python3"
  },
  "language_info": {
   "codemirror_mode": {
    "name": "ipython",
    "version": 2
   },
   "file_extension": ".py",
   "mimetype": "text/x-python",
   "name": "python",
   "nbconvert_exporter": "python",
   "pygments_lexer": "ipython2",
   "version": "2.7.6"
  }
 },
 "nbformat": 4,
 "nbformat_minor": 0
}