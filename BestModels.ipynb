{
 "cells": [
  {
   "cell_type": "code",
   "execution_count": 1,
   "metadata": {},
   "outputs": [],
   "source": [
    "import pandas as pd\n",
    "import numpy as np\n",
    "import matplotlib.pyplot as plt\n",
    "from sklearn import model_selection\n",
    "from sklearn.model_selection import train_test_split\n",
    "from sklearn.linear_model import LogisticRegression\n",
    "from sklearn.tree import DecisionTreeClassifier\n",
    "from sklearn.neighbors import KNeighborsClassifier\n",
    "from sklearn.discriminant_analysis import LinearDiscriminantAnalysis\n",
    "from sklearn.naive_bayes import GaussianNB, MultinomialNB\n",
    "from sklearn.svm import SVC\n",
    "from sklearn.neural_network import MLPClassifier\n",
    "from sklearn.preprocessing import StandardScaler, MinMaxScaler"
   ]
  },
  {
   "cell_type": "code",
   "execution_count": 2,
   "metadata": {},
   "outputs": [
    {
     "data": {
      "text/html": [
       "<div>\n",
       "<style scoped>\n",
       "    .dataframe tbody tr th:only-of-type {\n",
       "        vertical-align: middle;\n",
       "    }\n",
       "\n",
       "    .dataframe tbody tr th {\n",
       "        vertical-align: top;\n",
       "    }\n",
       "\n",
       "    .dataframe thead th {\n",
       "        text-align: right;\n",
       "    }\n",
       "</style>\n",
       "<table border=\"1\" class=\"dataframe\">\n",
       "  <thead>\n",
       "    <tr style=\"text-align: right;\">\n",
       "      <th></th>\n",
       "      <th>Vmag</th>\n",
       "      <th>Plx</th>\n",
       "      <th>B-V</th>\n",
       "      <th>MagA</th>\n",
       "      <th>Clase</th>\n",
       "    </tr>\n",
       "  </thead>\n",
       "  <tbody>\n",
       "    <tr>\n",
       "      <th>0</th>\n",
       "      <td>7.27</td>\n",
       "      <td>2.52</td>\n",
       "      <td>0.024</td>\n",
       "      <td>14.277002</td>\n",
       "      <td>0.0</td>\n",
       "    </tr>\n",
       "    <tr>\n",
       "      <th>1</th>\n",
       "      <td>9.09</td>\n",
       "      <td>13.17</td>\n",
       "      <td>0.653</td>\n",
       "      <td>19.687930</td>\n",
       "      <td>0.0</td>\n",
       "    </tr>\n",
       "    <tr>\n",
       "      <th>2</th>\n",
       "      <td>7.03</td>\n",
       "      <td>3.79</td>\n",
       "      <td>-0.018</td>\n",
       "      <td>14.923197</td>\n",
       "      <td>0.0</td>\n",
       "    </tr>\n",
       "    <tr>\n",
       "      <th>3</th>\n",
       "      <td>8.02</td>\n",
       "      <td>3.79</td>\n",
       "      <td>1.220</td>\n",
       "      <td>15.913197</td>\n",
       "      <td>1.0</td>\n",
       "    </tr>\n",
       "    <tr>\n",
       "      <th>4</th>\n",
       "      <td>8.00</td>\n",
       "      <td>-0.03</td>\n",
       "      <td>1.894</td>\n",
       "      <td>5.385606</td>\n",
       "      <td>1.0</td>\n",
       "    </tr>\n",
       "  </tbody>\n",
       "</table>\n",
       "</div>"
      ],
      "text/plain": [
       "   Vmag    Plx    B-V       MagA  Clase\n",
       "0  7.27   2.52  0.024  14.277002    0.0\n",
       "1  9.09  13.17  0.653  19.687930    0.0\n",
       "2  7.03   3.79 -0.018  14.923197    0.0\n",
       "3  8.02   3.79  1.220  15.913197    1.0\n",
       "4  8.00  -0.03  1.894   5.385606    1.0"
      ]
     },
     "execution_count": 2,
     "metadata": {},
     "output_type": "execute_result"
    }
   ],
   "source": [
    "df = pd.read_csv(\"CleanStar.csv\")\n",
    "df.head()"
   ]
  },
  {
   "cell_type": "code",
   "execution_count": 3,
   "metadata": {},
   "outputs": [],
   "source": [
    "X_big = np.array(df[['Vmag','Plx','B-V','MagA']].values)\n",
    "X_small = np.array(df[['B-V','MagA']].values)\n",
    "Y = np.array(df['Clase'].values)"
   ]
  },
  {
   "cell_type": "code",
   "execution_count": 4,
   "metadata": {},
   "outputs": [],
   "source": [
    "def best_lr(X_train, Y_train, X_test, Y_test):\n",
    "    solvers = ['newton-cg', 'lbfgs', 'liblinear', 'sag', 'saga']\n",
    "    best_solver = ''\n",
    "    best_score_LR = 0\n",
    "    for i in solvers:\n",
    "        LogReg = LogisticRegression(solver=i)\n",
    "        LogReg.fit(X_train, Y_train)\n",
    "        score = LogReg.score(X_test,Y_test)\n",
    "        if score > best_score_LR:\n",
    "            best_score_LR = score\n",
    "            best_solver = i\n",
    "    print('El mejor solver para la regresion logistica es {}, con un accuracy en los datos de prueba de {}%.'.format(best_solver, best_score_LR*100))\n",
    "    return best_solver"
   ]
  },
  {
   "cell_type": "code",
   "execution_count": 5,
   "metadata": {},
   "outputs": [],
   "source": [
    "def best_knn(X_train, Y_train, X_test, Y_test):\n",
    "    n_neigh = 15\n",
    "    K_best = 0\n",
    "    Score_best = 0\n",
    "\n",
    "    for i in range(1,n_neigh):\n",
    "        KNN = KNeighborsClassifier(n_neighbors=i)\n",
    "        KNN.fit(X_train,Y_train)\n",
    "        Y_pred = KNN.predict(X_test)\n",
    "        if KNN.score(X_test,Y_test) > Score_best:\n",
    "            Score_best = KNN.score(X_test,Y_test)\n",
    "            K_best = i\n",
    "    print('El mejor numero de vecinos para K-NN es {}, con un accuracy en los datos de prueba de {}%.'.format(K_best, (Score_best*100)))\n",
    "    return K_best"
   ]
  },
  {
   "cell_type": "code",
   "execution_count": 6,
   "metadata": {},
   "outputs": [],
   "source": [
    "def models(X,Y,best_solver,K_best):\n",
    "    # prepare configuration for cross validation test harness\n",
    "    seed = 7\n",
    "    # prepare models\n",
    "    models = []\n",
    "    models.append(('LR', LogisticRegression(solver=best_solver)))\n",
    "    models.append(('TREE', DecisionTreeClassifier()))\n",
    "    models.append(('KNN', KNeighborsClassifier(n_neighbors=K_best)))\n",
    "    models.append(('GNB', GaussianNB()))\n",
    "    models.append(('SVM', SVC())) #takes longer, comment if needed 2mins aprox\n",
    "    models.append(('NN', MLPClassifier(hidden_layer_sizes=(64,32), max_iter=300)))\n",
    "    models.append(('LDA', LinearDiscriminantAnalysis()))\n",
    "    # evaluate each model in turn\n",
    "    results = []\n",
    "    names = []\n",
    "    scoring = 'accuracy'\n",
    "    for name, model in models:\n",
    "        kfold = model_selection.KFold(n_splits=10, random_state=seed, shuffle=True)\n",
    "        cv_results = model_selection.cross_val_score(model, X, Y, cv=kfold, scoring=scoring)\n",
    "        results.append(cv_results)\n",
    "        names.append(name)\n",
    "        msg = \"%s: %f (%f)\" % (name, cv_results.mean(), cv_results.std())\n",
    "        print(msg)\n",
    "    # boxplot algorithm comparison\n",
    "    fig = plt.figure()\n",
    "    fig.suptitle('Algorithm Comparison')\n",
    "    ax = fig.add_subplot(111)\n",
    "    plt.boxplot(results)\n",
    "    ax.set_xticklabels(names)\n",
    "    plt.show()"
   ]
  },
  {
   "cell_type": "markdown",
   "metadata": {},
   "source": [
    "Usando todas las variabes"
   ]
  },
  {
   "cell_type": "code",
   "execution_count": 7,
   "metadata": {},
   "outputs": [
    {
     "name": "stdout",
     "output_type": "stream",
     "text": [
      "El mejor solver para la regresion logistica es newton-cg, con un accuracy en los datos de prueba de 88.11485964460468%.\n",
      "El mejor numero de vecinos para K-NN es 12, con un accuracy en los datos de prueba de 88.41102240535669%.\n",
      "LR: 0.880453 (0.004622)\n",
      "TREE: 0.819572 (0.006654)\n",
      "KNN: 0.881355 (0.006579)\n",
      "GNB: 0.847592 (0.003377)\n",
      "SVM: 0.883389 (0.004842)\n",
      "NN: 0.884445 (0.005113)\n",
      "LDA: 0.881715 (0.004687)\n"
     ]
    },
    {
     "data": {
      "image/png": "[encoded data removed]",
      "text/plain": [
       "<Figure size 432x288 with 1 Axes>"
      ]
     },
     "metadata": {
      "needs_background": "light"
     },
     "output_type": "display_data"
    }
   ],
   "source": [
    "# Dividimos datos\n",
    "X_trainB, X_testB, Y_trainB, Y_testB = train_test_split(X_big, Y, test_size=0.2, random_state=42)\n",
    "# Normalizamos\n",
    "scalerB = StandardScaler().fit(X_trainB)\n",
    "X_trainB = scalerB.transform(X_trainB)\n",
    "X_testB = scalerB.transform(X_testB)\n",
    "X_big = scalerB.transform(X_big)\n",
    "# modelos\n",
    "best_solver = best_lr(X_trainB, Y_trainB, X_testB, Y_testB)\n",
    "K_best = best_knn(X_trainB, Y_trainB, X_testB, Y_testB)\n",
    "models(X_big,Y,best_solver,K_best)"
   ]
  },
  {
   "cell_type": "markdown",
   "metadata": {},
   "source": [
    "Usando las ultimas dos variables (B-V, MagA)"
   ]
  },
  {
   "cell_type": "code",
   "execution_count": 8,
   "metadata": {},
   "outputs": [
    {
     "name": "stdout",
     "output_type": "stream",
     "text": [
      "El mejor solver para la regresion logistica es newton-cg, con un accuracy en los datos de prueba de 88.34663919649756%.\n",
      "El mejor numero de vecinos para K-NN es 12, con un accuracy en los datos de prueba de 88.06335307751738%.\n",
      "LR: 0.881226 (0.004739)\n",
      "TREE: 0.817409 (0.007295)\n",
      "KNN: 0.879217 (0.004526)\n",
      "GNB: 0.881973 (0.004509)\n",
      "SVM: 0.881741 (0.004472)\n",
      "NN: 0.882823 (0.004867)\n",
      "LDA: 0.881638 (0.003987)\n"
     ]
    },
    {
     "data": {
      "image/png": "[encoded data removed]",
      "text/plain": [
       "<Figure size 432x288 with 1 Axes>"
      ]
     },
     "metadata": {
      "needs_background": "light"
     },
     "output_type": "display_data"
    }
   ],
   "source": [
    "# Dividimos datos\n",
    "X_trainS, X_testS, Y_trainS, Y_testS = train_test_split(X_small, Y, test_size=0.2, random_state=42)\n",
    "# Normalizamos\n",
    "scalerS = StandardScaler().fit(X_trainS)\n",
    "X_trainS = scalerS.transform(X_trainS)\n",
    "X_testS = scalerS.transform(X_testS)\n",
    "X_small = scalerS.transform(X_small)\n",
    "# Modelos\n",
    "best_solver = best_lr(X_trainS, Y_trainS, X_testS, Y_testS)\n",
    "K_best = best_knn(X_trainS, Y_trainS, X_testS, Y_testS)\n",
    "models(X_small,Y,best_solver,K_best)"
   ]
  },
  {
   "cell_type": "markdown",
   "metadata": {},
   "source": [
    "Podemos ver que el desempeño para ambas prubeas nos da resultados muy similares con la excepcion del Gaussian Naive Bayes el cual se desempeña mucho mejor con solo los dos ultimos features, a partir de ahora seguiremos usando solo estos dos ultimos features."
   ]
  }
 ],
 "metadata": {
  "kernelspec": {
   "display_name": "Python 3",
   "language": "python",
   "name": "python3"
  },
  "language_info": {
   "codemirror_mode": {
    "name": "ipython",
    "version": 3
   },
   "file_extension": ".py",
   "mimetype": "text/x-python",
   "name": "python",
   "nbconvert_exporter": "python",
   "pygments_lexer": "ipython3",
   "version": "3.8.5"
  }
 },
 "nbformat": 4,
 "nbformat_minor": 4
}