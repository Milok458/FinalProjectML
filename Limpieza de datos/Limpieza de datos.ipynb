{
 "cells": [
  {
   "cell_type": "markdown",
   "metadata": {},
   "source": [
    "## Importamos librerias"
   ]
  },
  {
   "cell_type": "code",
   "execution_count": 1,
   "metadata": {},
   "outputs": [],
   "source": [
    "import numpy as np\n",
    "import pandas as pd\n",
    "from sklearn.utils import resample\n",
    "import matplotlib.pyplot as plt\n",
    "from sklearn.preprocessing import StandardScaler, MinMaxScaler"
   ]
  },
  {
   "cell_type": "markdown",
   "metadata": {},
   "source": [
    "## Importamos datos"
   ]
  },
  {
   "cell_type": "code",
   "execution_count": 2,
   "metadata": {},
   "outputs": [],
   "source": [
    "datos = pd.read_csv('Star99999_raw.csv')"
   ]
  },
  {
   "cell_type": "markdown",
   "metadata": {},
   "source": [
    "## Los visualizamos"
   ]
  },
  {
   "cell_type": "code",
   "execution_count": 3,
   "metadata": {},
   "outputs": [
    {
     "name": "stdout",
     "output_type": "stream",
     "text": [
      "<class 'pandas.core.frame.DataFrame'>\n",
      "RangeIndex: 99999 entries, 0 to 99998\n",
      "Data columns (total 6 columns):\n",
      " #   Column      Non-Null Count  Dtype \n",
      "---  ------      --------------  ----- \n",
      " 0   Unnamed: 0  99999 non-null  int64 \n",
      " 1   Vmag        99999 non-null  object\n",
      " 2   Plx         99999 non-null  object\n",
      " 3   e_Plx       99999 non-null  object\n",
      " 4   B-V         99999 non-null  object\n",
      " 5   SpType      97377 non-null  object\n",
      "dtypes: int64(1), object(5)\n",
      "memory usage: 4.6+ MB\n"
     ]
    }
   ],
   "source": [
    "datos.info()"
   ]
  },
  {
   "cell_type": "markdown",
   "metadata": {},
   "source": [
    "## Pasamos columnas a valores correctos"
   ]
  },
  {
   "cell_type": "code",
   "execution_count": 4,
   "metadata": {},
   "outputs": [],
   "source": [
    "datos[\"Vmag\"] = pd.to_numeric(datos[\"Vmag\"], downcast=\"float\", errors='coerce')\n",
    "datos[\"Plx\"] = pd.to_numeric(datos[\"Plx\"], downcast=\"float\", errors='coerce')\n",
    "datos[\"e_Plx\"] = pd.to_numeric(datos[\"e_Plx\"], downcast=\"float\", errors='coerce')\n",
    "datos[\"B-V\"] = pd.to_numeric(datos[\"B-V\"], downcast=\"float\", errors='coerce')"
   ]
  },
  {
   "cell_type": "code",
   "execution_count": 5,
   "metadata": {},
   "outputs": [
    {
     "data": {
      "text/html": [
       "<div>\n",
       "<style scoped>\n",
       "    .dataframe tbody tr th:only-of-type {\n",
       "        vertical-align: middle;\n",
       "    }\n",
       "\n",
       "    .dataframe tbody tr th {\n",
       "        vertical-align: top;\n",
       "    }\n",
       "\n",
       "    .dataframe thead th {\n",
       "        text-align: right;\n",
       "    }\n",
       "</style>\n",
       "<table border=\"1\" class=\"dataframe\">\n",
       "  <thead>\n",
       "    <tr style=\"text-align: right;\">\n",
       "      <th></th>\n",
       "      <th>Unnamed: 0</th>\n",
       "      <th>Vmag</th>\n",
       "      <th>Plx</th>\n",
       "      <th>e_Plx</th>\n",
       "      <th>B-V</th>\n",
       "      <th>SpType</th>\n",
       "    </tr>\n",
       "  </thead>\n",
       "  <tbody>\n",
       "    <tr>\n",
       "      <th>count</th>\n",
       "      <td>99999.000000</td>\n",
       "      <td>99998.000000</td>\n",
       "      <td>99768.000000</td>\n",
       "      <td>99768.000000</td>\n",
       "      <td>98871.000000</td>\n",
       "      <td>97377</td>\n",
       "    </tr>\n",
       "    <tr>\n",
       "      <th>unique</th>\n",
       "      <td>NaN</td>\n",
       "      <td>NaN</td>\n",
       "      <td>NaN</td>\n",
       "      <td>NaN</td>\n",
       "      <td>NaN</td>\n",
       "      <td>3756</td>\n",
       "    </tr>\n",
       "    <tr>\n",
       "      <th>top</th>\n",
       "      <td>NaN</td>\n",
       "      <td>NaN</td>\n",
       "      <td>NaN</td>\n",
       "      <td>NaN</td>\n",
       "      <td>NaN</td>\n",
       "      <td>K0</td>\n",
       "    </tr>\n",
       "    <tr>\n",
       "      <th>freq</th>\n",
       "      <td>NaN</td>\n",
       "      <td>NaN</td>\n",
       "      <td>NaN</td>\n",
       "      <td>NaN</td>\n",
       "      <td>NaN</td>\n",
       "      <td>7355</td>\n",
       "    </tr>\n",
       "    <tr>\n",
       "      <th>mean</th>\n",
       "      <td>49999.000000</td>\n",
       "      <td>8.369723</td>\n",
       "      <td>7.212443</td>\n",
       "      <td>1.365389</td>\n",
       "      <td>0.704728</td>\n",
       "      <td>NaN</td>\n",
       "    </tr>\n",
       "    <tr>\n",
       "      <th>std</th>\n",
       "      <td>28867.369122</td>\n",
       "      <td>1.313881</td>\n",
       "      <td>11.349038</td>\n",
       "      <td>1.816845</td>\n",
       "      <td>0.489686</td>\n",
       "      <td>NaN</td>\n",
       "    </tr>\n",
       "    <tr>\n",
       "      <th>min</th>\n",
       "      <td>0.000000</td>\n",
       "      <td>-1.440000</td>\n",
       "      <td>-54.950001</td>\n",
       "      <td>0.380000</td>\n",
       "      <td>-0.400000</td>\n",
       "      <td>NaN</td>\n",
       "    </tr>\n",
       "    <tr>\n",
       "      <th>25%</th>\n",
       "      <td>24999.500000</td>\n",
       "      <td>7.640000</td>\n",
       "      <td>2.510000</td>\n",
       "      <td>0.880000</td>\n",
       "      <td>0.348000</td>\n",
       "      <td>NaN</td>\n",
       "    </tr>\n",
       "    <tr>\n",
       "      <th>50%</th>\n",
       "      <td>49999.000000</td>\n",
       "      <td>8.440000</td>\n",
       "      <td>4.630000</td>\n",
       "      <td>1.100000</td>\n",
       "      <td>0.612000</td>\n",
       "      <td>NaN</td>\n",
       "    </tr>\n",
       "    <tr>\n",
       "      <th>75%</th>\n",
       "      <td>74998.500000</td>\n",
       "      <td>9.140000</td>\n",
       "      <td>8.410000</td>\n",
       "      <td>1.390000</td>\n",
       "      <td>1.075000</td>\n",
       "      <td>NaN</td>\n",
       "    </tr>\n",
       "    <tr>\n",
       "      <th>max</th>\n",
       "      <td>99998.000000</td>\n",
       "      <td>14.080000</td>\n",
       "      <td>772.330017</td>\n",
       "      <td>114.459999</td>\n",
       "      <td>5.460000</td>\n",
       "      <td>NaN</td>\n",
       "    </tr>\n",
       "  </tbody>\n",
       "</table>\n",
       "</div>"
      ],
      "text/plain": [
       "          Unnamed: 0          Vmag           Plx         e_Plx           B-V  \\\n",
       "count   99999.000000  99998.000000  99768.000000  99768.000000  98871.000000   \n",
       "unique           NaN           NaN           NaN           NaN           NaN   \n",
       "top              NaN           NaN           NaN           NaN           NaN   \n",
       "freq             NaN           NaN           NaN           NaN           NaN   \n",
       "mean    49999.000000      8.369723      7.212443      1.365389      0.704728   \n",
       "std     28867.369122      1.313881     11.349038      1.816845      0.489686   \n",
       "min         0.000000     -1.440000    -54.950001      0.380000     -0.400000   \n",
       "25%     24999.500000      7.640000      2.510000      0.880000      0.348000   \n",
       "50%     49999.000000      8.440000      4.630000      1.100000      0.612000   \n",
       "75%     74998.500000      9.140000      8.410000      1.390000      1.075000   \n",
       "max     99998.000000     14.080000    772.330017    114.459999      5.460000   \n",
       "\n",
       "       SpType  \n",
       "count   97377  \n",
       "unique   3756  \n",
       "top        K0  \n",
       "freq     7355  \n",
       "mean      NaN  \n",
       "std       NaN  \n",
       "min       NaN  \n",
       "25%       NaN  \n",
       "50%       NaN  \n",
       "75%       NaN  \n",
       "max       NaN  "
      ]
     },
     "execution_count": 5,
     "metadata": {},
     "output_type": "execute_result"
    }
   ],
   "source": [
    "datos.describe(include = 'all')"
   ]
  },
  {
   "cell_type": "markdown",
   "metadata": {},
   "source": [
    "## Eliminamos la primera columna"
   ]
  },
  {
   "cell_type": "code",
   "execution_count": 6,
   "metadata": {},
   "outputs": [],
   "source": [
    "datos = datos.drop('Unnamed: 0', axis=1)"
   ]
  },
  {
   "cell_type": "markdown",
   "metadata": {},
   "source": [
    "## Checamos cuantos datos hay faltantes"
   ]
  },
  {
   "cell_type": "code",
   "execution_count": 7,
   "metadata": {},
   "outputs": [
    {
     "name": "stdout",
     "output_type": "stream",
     "text": [
      "Vmag         1\n",
      "Plx        231\n",
      "e_Plx      231\n",
      "B-V       1128\n",
      "SpType    2622\n",
      "dtype: int64\n"
     ]
    }
   ],
   "source": [
    "faltantes = datos.isnull().sum()\n",
    "print(faltantes)"
   ]
  },
  {
   "cell_type": "code",
   "execution_count": 8,
   "metadata": {},
   "outputs": [
    {
     "name": "stdout",
     "output_type": "stream",
     "text": [
      "El porcentaje de datos faltantes es: 0.84 %\n"
     ]
    }
   ],
   "source": [
    "total = np.product(datos.shape)\n",
    "suma_faltantes = faltantes.sum()\n",
    "print(f'El porcentaje de datos faltantes es: {100*suma_faltantes/total:0.2f} %')"
   ]
  },
  {
   "cell_type": "markdown",
   "metadata": {},
   "source": [
    "## Eliminamos renglones con valores faltantes"
   ]
  },
  {
   "cell_type": "code",
   "execution_count": 9,
   "metadata": {},
   "outputs": [],
   "source": [
    "num_total = datos.shape[0]\n",
    "datos = datos.dropna()"
   ]
  },
  {
   "cell_type": "markdown",
   "metadata": {},
   "source": [
    "## Eliminamos renglones donde el error de Plx sea muy grande"
   ]
  },
  {
   "cell_type": "code",
   "execution_count": 10,
   "metadata": {},
   "outputs": [],
   "source": [
    "threshold = datos['e_Plx'].mean() + 0.75\n",
    "datos = datos[datos['e_Plx'] < threshold]\n",
    "\n",
    "num_limpio = datos.shape[0]"
   ]
  },
  {
   "cell_type": "code",
   "execution_count": 11,
   "metadata": {},
   "outputs": [
    {
     "name": "stdout",
     "output_type": "stream",
     "text": [
      "Perdimos el 9.87 % del dataset\n"
     ]
    }
   ],
   "source": [
    "print(f'Perdimos el {(1-num_limpio/num_total)*100:0.2f} % del dataset')"
   ]
  },
  {
   "cell_type": "code",
   "execution_count": 12,
   "metadata": {},
   "outputs": [],
   "source": [
    "# Reindexamos\n",
    "datos = datos.reset_index(drop=True)"
   ]
  },
  {
   "cell_type": "markdown",
   "metadata": {},
   "source": [
    "## Creamos la columna de magnitud absoluta"
   ]
  },
  {
   "cell_type": "code",
   "execution_count": 13,
   "metadata": {},
   "outputs": [],
   "source": [
    "datos = datos[datos.Plx != 0]\n",
    "datos[\"MagA\"] = datos[\"Vmag\"] + 5 * (np.log10(abs(datos[\"Plx\"]))+1)"
   ]
  },
  {
   "cell_type": "code",
   "execution_count": 14,
   "metadata": {},
   "outputs": [],
   "source": [
    "# Reindexamos\n",
    "datos = datos.reset_index(drop=True)"
   ]
  },
  {
   "cell_type": "markdown",
   "metadata": {},
   "source": [
    "## Convertimos SpType a gigante y enana (1 para gigante 0 para enana)"
   ]
  },
  {
   "cell_type": "code",
   "execution_count": 15,
   "metadata": {},
   "outputs": [],
   "source": [
    "datos['Clase'] = datos['SpType']\n",
    "for i in range(len(datos['Clase'])):\n",
    "    if \"V\" in datos['Clase'].values[i]:\n",
    "        datos.at[i, 'Clase'] = 0\n",
    "    elif \"I\" in datos['Clase'].values[i]:\n",
    "        datos.at[i, 'Clase'] = 1\n",
    "    else:\n",
    "        datos.at[i, 'Clase'] = 2\n",
    "datos = datos[datos.Clase != 2]\n",
    "datos['Clase'] = pd.to_numeric(datos['Clase'], downcast=\"float\")"
   ]
  },
  {
   "cell_type": "code",
   "execution_count": 16,
   "metadata": {},
   "outputs": [],
   "source": [
    "datos = datos.drop(['e_Plx', 'SpType'], axis=1)"
   ]
  },
  {
   "cell_type": "code",
   "execution_count": 17,
   "metadata": {},
   "outputs": [],
   "source": [
    "# Reindexamos\n",
    "datos = datos.reset_index(drop=True)"
   ]
  },
  {
   "cell_type": "markdown",
   "metadata": {},
   "source": [
    "## Valanceamos los datos"
   ]
  },
  {
   "cell_type": "code",
   "execution_count": 18,
   "metadata": {},
   "outputs": [
    {
     "name": "stdout",
     "output_type": "stream",
     "text": [
      "Tenemos 26071 estrellas enanas y 19415 estrellas gigantes\n"
     ]
    }
   ],
   "source": [
    "enanas = datos[datos.Clase == 0]\n",
    "gigantes = datos[datos.Clase == 1]\n",
    "print(f'Tenemos {enanas.shape[0]} estrellas enanas y {gigantes.shape[0]} estrellas gigantes')"
   ]
  },
  {
   "cell_type": "markdown",
   "metadata": {},
   "source": [
    "Tenemos mas estrellas enanas que gigantes hay que valancear eso"
   ]
  },
  {
   "cell_type": "code",
   "execution_count": 19,
   "metadata": {},
   "outputs": [],
   "source": [
    "enanas = resample(enanas, replace=False, n_samples=gigantes.shape[0])\n",
    "datos = pd.concat([gigantes, enanas])\n",
    "datos = datos.sample(frac=1).reset_index(drop=True)"
   ]
  },
  {
   "cell_type": "markdown",
   "metadata": {},
   "source": [
    "## Volvemos a ver los datos"
   ]
  },
  {
   "cell_type": "code",
   "execution_count": 20,
   "metadata": {},
   "outputs": [
    {
     "name": "stdout",
     "output_type": "stream",
     "text": [
      "<class 'pandas.core.frame.DataFrame'>\n",
      "RangeIndex: 38830 entries, 0 to 38829\n",
      "Data columns (total 5 columns):\n",
      " #   Column  Non-Null Count  Dtype  \n",
      "---  ------  --------------  -----  \n",
      " 0   Vmag    38830 non-null  float32\n",
      " 1   Plx     38830 non-null  float32\n",
      " 2   B-V     38830 non-null  float32\n",
      " 3   MagA    38830 non-null  float32\n",
      " 4   Clase   38830 non-null  float32\n",
      "dtypes: float32(5)\n",
      "memory usage: 758.5 KB\n"
     ]
    }
   ],
   "source": [
    "datos.info()"
   ]
  },
  {
   "cell_type": "code",
   "execution_count": 21,
   "metadata": {},
   "outputs": [
    {
     "data": {
      "text/html": [
       "<div>\n",
       "<style scoped>\n",
       "    .dataframe tbody tr th:only-of-type {\n",
       "        vertical-align: middle;\n",
       "    }\n",
       "\n",
       "    .dataframe tbody tr th {\n",
       "        vertical-align: top;\n",
       "    }\n",
       "\n",
       "    .dataframe thead th {\n",
       "        text-align: right;\n",
       "    }\n",
       "</style>\n",
       "<table border=\"1\" class=\"dataframe\">\n",
       "  <thead>\n",
       "    <tr style=\"text-align: right;\">\n",
       "      <th></th>\n",
       "      <th>Vmag</th>\n",
       "      <th>Plx</th>\n",
       "      <th>B-V</th>\n",
       "      <th>MagA</th>\n",
       "      <th>Clase</th>\n",
       "    </tr>\n",
       "  </thead>\n",
       "  <tbody>\n",
       "    <tr>\n",
       "      <th>count</th>\n",
       "      <td>38830.000000</td>\n",
       "      <td>38830.000000</td>\n",
       "      <td>38830.000000</td>\n",
       "      <td>38830.000000</td>\n",
       "      <td>38830.000000</td>\n",
       "    </tr>\n",
       "    <tr>\n",
       "      <th>mean</th>\n",
       "      <td>7.873541</td>\n",
       "      <td>7.020456</td>\n",
       "      <td>0.739088</td>\n",
       "      <td>15.993328</td>\n",
       "      <td>0.500000</td>\n",
       "    </tr>\n",
       "    <tr>\n",
       "      <th>std</th>\n",
       "      <td>1.288882</td>\n",
       "      <td>11.258369</td>\n",
       "      <td>0.516208</td>\n",
       "      <td>2.390976</td>\n",
       "      <td>0.500006</td>\n",
       "    </tr>\n",
       "    <tr>\n",
       "      <th>min</th>\n",
       "      <td>-0.620000</td>\n",
       "      <td>-6.680000</td>\n",
       "      <td>-0.400000</td>\n",
       "      <td>-0.350000</td>\n",
       "      <td>0.000000</td>\n",
       "    </tr>\n",
       "    <tr>\n",
       "      <th>25%</th>\n",
       "      <td>7.160000</td>\n",
       "      <td>2.430000</td>\n",
       "      <td>0.344000</td>\n",
       "      <td>14.732005</td>\n",
       "      <td>0.000000</td>\n",
       "    </tr>\n",
       "    <tr>\n",
       "      <th>50%</th>\n",
       "      <td>8.120000</td>\n",
       "      <td>4.420000</td>\n",
       "      <td>0.696000</td>\n",
       "      <td>15.987060</td>\n",
       "      <td>0.500000</td>\n",
       "    </tr>\n",
       "    <tr>\n",
       "      <th>75%</th>\n",
       "      <td>8.790000</td>\n",
       "      <td>8.197500</td>\n",
       "      <td>1.125750</td>\n",
       "      <td>17.510725</td>\n",
       "      <td>1.000000</td>\n",
       "    </tr>\n",
       "    <tr>\n",
       "      <th>max</th>\n",
       "      <td>11.580000</td>\n",
       "      <td>742.119995</td>\n",
       "      <td>3.440000</td>\n",
       "      <td>28.004795</td>\n",
       "      <td>1.000000</td>\n",
       "    </tr>\n",
       "  </tbody>\n",
       "</table>\n",
       "</div>"
      ],
      "text/plain": [
       "               Vmag           Plx           B-V          MagA         Clase\n",
       "count  38830.000000  38830.000000  38830.000000  38830.000000  38830.000000\n",
       "mean       7.873541      7.020456      0.739088     15.993328      0.500000\n",
       "std        1.288882     11.258369      0.516208      2.390976      0.500006\n",
       "min       -0.620000     -6.680000     -0.400000     -0.350000      0.000000\n",
       "25%        7.160000      2.430000      0.344000     14.732005      0.000000\n",
       "50%        8.120000      4.420000      0.696000     15.987060      0.500000\n",
       "75%        8.790000      8.197500      1.125750     17.510725      1.000000\n",
       "max       11.580000    742.119995      3.440000     28.004795      1.000000"
      ]
     },
     "execution_count": 21,
     "metadata": {},
     "output_type": "execute_result"
    }
   ],
   "source": [
    "datos.describe()"
   ]
  },
  {
   "cell_type": "code",
   "execution_count": 22,
   "metadata": {},
   "outputs": [
    {
     "data": {
      "image/png": "[encoded data removed]",
      "text/plain": [
       "<Figure size 288x288 with 2 Axes>"
      ]
     },
     "metadata": {
      "needs_background": "light"
     },
     "output_type": "display_data"
    }
   ],
   "source": [
    "def show_heatmap(data):\n",
    "    plt.matshow(data.corr())\n",
    "    plt.xticks(range(data.shape[1]), data.columns, fontsize=10, rotation=90)\n",
    "    plt.gca().xaxis.tick_bottom()\n",
    "    plt.yticks(range(data.shape[1]), data.columns, fontsize=10)\n",
    "\n",
    "    cb = plt.colorbar()\n",
    "    cb.ax.tick_params(labelsize=14)\n",
    "    plt.title(\"Feature Correlation Heatmap\", fontsize=14)\n",
    "    plt.show()\n",
    "\n",
    "\n",
    "show_heatmap(datos)"
   ]
  },
  {
   "cell_type": "markdown",
   "metadata": {},
   "source": [
    "## Guardamos el dataset"
   ]
  },
  {
   "cell_type": "code",
   "execution_count": 23,
   "metadata": {},
   "outputs": [],
   "source": [
    "datos.to_csv(\"CleanStar.csv\", index=False)"
   ]
  }
 ],
 "metadata": {
  "kernelspec": {
   "display_name": "Python 3",
   "language": "python",
   "name": "python3"
  },
  "language_info": {
   "codemirror_mode": {
    "name": "ipython",
    "version": 3
   },
   "file_extension": ".py",
   "mimetype": "text/x-python",
   "name": "python",
   "nbconvert_exporter": "python",
   "pygments_lexer": "ipython3",
   "version": "3.8.5"
  }
 },
 "nbformat": 4,
 "nbformat_minor": 4
}
